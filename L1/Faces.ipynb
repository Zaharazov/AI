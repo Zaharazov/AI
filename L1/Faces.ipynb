{
  "cells": [
    {
      "cell_type": "code",
      "execution_count": 13,
      "id": "85c3afa5",
      "metadata": {
        "id": "85c3afa5"
      },
      "outputs": [],
      "source": [
        "import os\n",
        "import numpy as np\n",
        "import pandas as pd\n",
        "from PIL import Image\n",
        "from sklearn.model_selection import StratifiedShuffleSplit\n",
        "from torchvision import transforms\n",
        "from torch.utils.data import Dataset, DataLoader\n",
        "import torch\n",
        "\n",
        "class PetFacesDataset(Dataset):\n",
        "    def __init__(self, image_paths, labels, transform=None):\n",
        "        self.image_paths = image_paths\n",
        "        self.labels = labels\n",
        "        self.transform = transform\n",
        "\n",
        "    def __len__(self):\n",
        "        return len(self.image_paths)\n",
        "\n",
        "    def __getitem__(self, idx):\n",
        "        img = Image.open(self.image_paths[idx]).convert(\"RGB\")\n",
        "        if self.transform:\n",
        "            img = self.transform(img)\n",
        "        label = self.labels[idx]\n",
        "        return img, label\n"
      ]
    },
    {
      "cell_type": "code",
      "execution_count": 14,
      "id": "f37efe99",
      "metadata": {
        "id": "f37efe99"
      },
      "outputs": [],
      "source": [
        "import torch.nn as nn\n",
        "import torch.nn.functional as F\n",
        "\n",
        "class CNNClassifier(nn.Module):\n",
        "    def __init__(self, num_classes=35):\n",
        "        super(CNNClassifier, self).__init__()\n",
        "        self.conv1 = nn.Conv2d(3, 32, kernel_size=3, padding=1)\n",
        "        self.pool = nn.MaxPool2d(2, 2)\n",
        "        self.conv2 = nn.Conv2d(32, 64, kernel_size=3, padding=1)\n",
        "        self.conv3 = nn.Conv2d(64, 128, kernel_size=3, padding=1)\n",
        "        self.dropout = nn.Dropout(0.5)\n",
        "        self.fc1 = nn.Linear(128 * 8 * 8, 256)\n",
        "        self.fc2 = nn.Linear(256, num_classes)\n",
        "\n",
        "    def forward(self, x):\n",
        "        x = self.pool(F.relu(self.conv1(x)))  # [B, 32, H/2, W/2]\n",
        "        x = self.pool(F.relu(self.conv2(x)))  # [B, 64, H/4, W/4]\n",
        "        x = self.pool(F.relu(self.conv3(x)))  # [B, 128, H/8, W/8]\n",
        "        x = x.view(x.size(0), -1)\n",
        "        x = self.dropout(F.relu(self.fc1(x)))\n",
        "        x = self.fc2(x)\n",
        "        return x\n"
      ]
    },
    {
      "cell_type": "code",
      "execution_count": 15,
      "id": "d880b08b",
      "metadata": {
        "id": "d880b08b"
      },
      "outputs": [],
      "source": [
        "class BinaryCNNClassifier(nn.Module):\n",
        "    def __init__(self, num_filters=32, kernel_size=3, hidden_dim=128, dropout_rate=0.5):\n",
        "        super(BinaryCNNClassifier, self).__init__()\n",
        "        self.num_filters = num_filters\n",
        "\n",
        "        self.conv1 = nn.Conv2d(3, num_filters, kernel_size=kernel_size, padding=1)\n",
        "        self.pool = nn.MaxPool2d(2, 2)\n",
        "        self.conv2 = nn.Conv2d(num_filters, num_filters * 2, kernel_size=kernel_size, padding=1)\n",
        "        self.conv3 = nn.Conv2d(num_filters * 2, num_filters * 4, kernel_size=kernel_size, padding=1)\n",
        "\n",
        "        self.fc1 = nn.Linear(num_filters * 4 * 8 * 8, hidden_dim)  # Теперь num_filters доступен через self.\n",
        "        self.fc2 = nn.Linear(hidden_dim, 1)\n",
        "        self.dropout = nn.Dropout(dropout_rate)\n",
        "\n",
        "\n",
        "    def forward(self, x):\n",
        "        x = self.pool(F.relu(self.conv1(x)))\n",
        "        x = self.pool(F.relu(self.conv2(x)))\n",
        "        x = self.pool(F.relu(self.conv3(x)))\n",
        "        x = x.view(x.size(0), -1)\n",
        "        x = self.dropout(F.relu(self.fc1(x)))\n",
        "        x = torch.sigmoid(self.fc2(x)).squeeze(1)\n",
        "        return x\n"
      ]
    },
    {
      "cell_type": "code",
      "source": [
        "!wget -q http://www.soshnikov.com/permanent/data/petfaces.tar.gz\n",
        "!tar -xzf petfaces.tar.gz\n",
        "!rm petfaces.tar.gz\n",
        "\n"
      ],
      "metadata": {
        "id": "p-E7j6Q-C9Dd"
      },
      "id": "p-E7j6Q-C9Dd",
      "execution_count": 16,
      "outputs": []
    },
    {
      "cell_type": "code",
      "execution_count": 17,
      "id": "1c7828b5",
      "metadata": {
        "id": "1c7828b5"
      },
      "outputs": [],
      "source": [
        "from sklearn.preprocessing import LabelEncoder\n",
        "\n",
        "image_paths = []\n",
        "labels = []\n",
        "\n",
        "for root, dirs, files in os.walk(\"petfaces\"):\n",
        "    for file in files:\n",
        "        if file.endswith(\".jpg\"):\n",
        "            path = os.path.join(root, file)\n",
        "            label = root.split(\"/\")[-1]\n",
        "            image_paths.append(path)\n",
        "            labels.append(label)\n",
        "\n",
        "label_encoder = LabelEncoder()\n",
        "encoded_labels = label_encoder.fit_transform(labels)\n",
        "\n",
        "binary_labels = [0 if \"cat\" in l else 1 for l in labels]\n",
        "\n",
        "sss = StratifiedShuffleSplit(n_splits=1, test_size=0.2, random_state=42)\n",
        "train_idx, test_idx = next(sss.split(image_paths, encoded_labels))\n",
        "\n",
        "import torchvision.transforms as transforms\n",
        "\n",
        "transform = transforms.Compose([\n",
        "    transforms.Resize((64, 64)),\n",
        "    transforms.ToTensor(),\n",
        "    transforms.Normalize([0.5]*3, [0.5]*3)\n",
        "])\n",
        "\n",
        "\n",
        "train_dataset = PetFacesDataset([image_paths[i] for i in train_idx],\n",
        "                                [encoded_labels[i] for i in train_idx], transform)\n",
        "test_dataset = PetFacesDataset([image_paths[i] for i in test_idx],\n",
        "                               [encoded_labels[i] for i in test_idx], transform)\n",
        "\n",
        "train_loader = DataLoader(train_dataset, batch_size=64, shuffle=True)\n",
        "test_loader = DataLoader(test_dataset, batch_size=64)\n"
      ]
    },
    {
      "cell_type": "code",
      "execution_count": 18,
      "id": "8b784d8e",
      "metadata": {
        "id": "8b784d8e"
      },
      "outputs": [],
      "source": [
        "def train_model(model, train_loader, test_loader, criterion, optimizer, num_epochs=10, device='cuda'):\n",
        "    model = model.to(device)\n",
        "    model.train()\n",
        "\n",
        "    for epoch in range(num_epochs):\n",
        "        running_loss = 0.0\n",
        "        for inputs, labels in train_loader:\n",
        "            inputs = inputs.to(device)\n",
        "            labels = labels.to(device)\n",
        "\n",
        "            if isinstance(criterion, nn.BCELoss):\n",
        "                labels = labels.float()\n",
        "\n",
        "            optimizer.zero_grad()\n",
        "            outputs = model(inputs)\n",
        "            loss = criterion(outputs, labels)\n",
        "            loss.backward()\n",
        "            optimizer.step()\n",
        "            running_loss += loss.item()\n",
        "\n",
        "        avg_loss = running_loss / len(train_loader)\n",
        "        print(f\"Epoch [{epoch+1}/{num_epochs}] - Loss: {avg_loss:.4f}\")\n",
        "\n",
        "    return model"
      ]
    },
    {
      "cell_type": "code",
      "execution_count": 19,
      "id": "2d06265b",
      "metadata": {
        "id": "2d06265b"
      },
      "outputs": [],
      "source": [
        "def evaluate_model(model, test_loader, num_classes=35, is_binary=False, device='cpu'):\n",
        "    model.eval()\n",
        "    model.to(device)\n",
        "    correct = 0\n",
        "    total = 0\n",
        "\n",
        "    with torch.no_grad():\n",
        "        for inputs, labels in test_loader:\n",
        "            inputs = inputs.to(device)\n",
        "            labels = labels.to(device)\n",
        "\n",
        "            if is_binary:\n",
        "                labels = labels.float()\n",
        "\n",
        "            outputs = model(inputs)\n",
        "\n",
        "            if is_binary:\n",
        "                preds = (outputs > 0.5).float()\n",
        "            else:\n",
        "                _, preds = torch.max(outputs, 1)\n",
        "\n",
        "            correct += (preds == labels).sum().item()\n",
        "            total += labels.size(0)\n",
        "\n",
        "    accuracy = correct / total\n",
        "    print(f'Accuracy: {accuracy:.4f}')\n",
        "    return accuracy"
      ]
    },
    {
      "cell_type": "code",
      "execution_count": 20,
      "id": "4ba774bf",
      "metadata": {
        "id": "4ba774bf",
        "outputId": "fa58f588-630b-4031-a511-fd466dd4b8fa",
        "colab": {
          "base_uri": "https://localhost:8080/"
        }
      },
      "outputs": [
        {
          "output_type": "stream",
          "name": "stdout",
          "text": [
            "Epoch [1/20] - Loss: 3.4089\n",
            "Epoch [2/20] - Loss: 2.8973\n",
            "Epoch [3/20] - Loss: 2.4319\n",
            "Epoch [4/20] - Loss: 2.0158\n",
            "Epoch [5/20] - Loss: 1.7011\n",
            "Epoch [6/20] - Loss: 1.4963\n",
            "Epoch [7/20] - Loss: 1.2606\n",
            "Epoch [8/20] - Loss: 1.1313\n",
            "Epoch [9/20] - Loss: 0.8850\n",
            "Epoch [10/20] - Loss: 0.8069\n",
            "Epoch [11/20] - Loss: 0.6659\n",
            "Epoch [12/20] - Loss: 0.6074\n",
            "Epoch [13/20] - Loss: 0.4959\n",
            "Epoch [14/20] - Loss: 0.4204\n",
            "Epoch [15/20] - Loss: 0.3785\n",
            "Epoch [16/20] - Loss: 0.3383\n",
            "Epoch [17/20] - Loss: 0.3398\n",
            "Epoch [18/20] - Loss: 0.2874\n",
            "Epoch [19/20] - Loss: 0.2351\n",
            "Epoch [20/20] - Loss: 0.2207\n",
            "Accuracy: 0.5412\n"
          ]
        },
        {
          "output_type": "execute_result",
          "data": {
            "text/plain": [
              "0.5412130637636081"
            ]
          },
          "metadata": {},
          "execution_count": 20
        }
      ],
      "source": [
        "device = torch.device(\"cuda\" if torch.cuda.is_available() else \"cpu\")\n",
        "model_multi = CNNClassifier(num_classes=35)\n",
        "criterion = nn.CrossEntropyLoss()\n",
        "optimizer = torch.optim.Adam(model_multi.parameters(), lr=0.001)\n",
        "\n",
        "model_multi = train_model(model_multi, train_loader, test_loader, criterion, optimizer, num_epochs=20, device=device)\n",
        "evaluate_model(model_multi, test_loader, num_classes=35, is_binary=False, device=device)\n"
      ]
    },
    {
      "cell_type": "code",
      "execution_count": 21,
      "id": "80a1b121",
      "metadata": {
        "id": "80a1b121",
        "outputId": "4afd7678-a2d0-4926-9586-df9885456213",
        "colab": {
          "base_uri": "https://localhost:8080/",
          "height": 476
        }
      },
      "outputs": [
        {
          "output_type": "execute_result",
          "data": {
            "text/plain": [
              "<sklearn.metrics._plot.confusion_matrix.ConfusionMatrixDisplay at 0x7ae660196a10>"
            ]
          },
          "metadata": {},
          "execution_count": 21
        },
        {
          "output_type": "display_data",
          "data": {
            "text/plain": [
              "<Figure size 640x480 with 2 Axes>"
            ],
            "image/png": "[encoded data removed]"
          },
          "metadata": {}
        }
      ],
      "source": [
        "from sklearn.metrics import confusion_matrix, ConfusionMatrixDisplay\n",
        "\n",
        "all_preds = []\n",
        "all_labels = []\n",
        "model_multi.eval()\n",
        "with torch.no_grad():\n",
        "    for inputs, labels in test_loader:\n",
        "        inputs = inputs.to(device)\n",
        "        outputs = model_multi(inputs)\n",
        "        _, predicted = torch.max(outputs, 1)\n",
        "        all_preds.extend(predicted.cpu().numpy())\n",
        "        all_labels.extend(labels.numpy())\n",
        "\n",
        "cm = confusion_matrix(all_labels, all_preds)\n",
        "disp = ConfusionMatrixDisplay(confusion_matrix=cm)\n",
        "disp.plot(xticks_rotation='vertical')\n"
      ]
    },
    {
      "cell_type": "code",
      "execution_count": 22,
      "id": "48aeffb1",
      "metadata": {
        "id": "48aeffb1",
        "outputId": "349d88e3-b1f2-4560-9752-606a8be7eb30",
        "colab": {
          "base_uri": "https://localhost:8080/"
        }
      },
      "outputs": [
        {
          "output_type": "stream",
          "name": "stdout",
          "text": [
            "Top-3 Accuracy: 0.7869\n"
          ]
        }
      ],
      "source": [
        "def top_k_accuracy(model, dataloader, k=3):\n",
        "    model.eval()\n",
        "    correct = 0\n",
        "    total = 0\n",
        "    with torch.no_grad():\n",
        "        for inputs, labels in dataloader:\n",
        "            inputs, labels = inputs.to(device), labels.to(device)\n",
        "            outputs = model(inputs)\n",
        "            topk = torch.topk(outputs, k=k, dim=1).indices\n",
        "            for i in range(labels.size(0)):\n",
        "                if labels[i] in topk[i]:\n",
        "                    correct += 1\n",
        "            total += labels.size(0)\n",
        "    return correct / total\n",
        "\n",
        "top3_acc = top_k_accuracy(model_multi, test_loader, k=3)\n",
        "print(f\"Top-3 Accuracy: {top3_acc:.4f}\")\n"
      ]
    },
    {
      "cell_type": "code",
      "execution_count": 23,
      "id": "942e2da3",
      "metadata": {
        "id": "942e2da3"
      },
      "outputs": [],
      "source": [
        "train_dataset_binary = PetFacesDataset([image_paths[i] for i in train_idx],\n",
        "                                       [binary_labels[i] for i in train_idx], transform)\n",
        "test_dataset_binary = PetFacesDataset([image_paths[i] for i in test_idx],\n",
        "                                      [binary_labels[i] for i in test_idx], transform)\n",
        "\n",
        "train_loader_bin = DataLoader(train_dataset_binary, batch_size=64, shuffle=True)\n",
        "test_loader_bin = DataLoader(test_dataset_binary, batch_size=64)\n"
      ]
    },
    {
      "cell_type": "code",
      "execution_count": 24,
      "id": "818e9203",
      "metadata": {
        "id": "818e9203",
        "outputId": "bbe541c1-f0c9-40b2-c02f-6728e3062421",
        "colab": {
          "base_uri": "https://localhost:8080/"
        }
      },
      "outputs": [
        {
          "output_type": "stream",
          "name": "stdout",
          "text": [
            "Epoch [1/10] - Loss: 0.5649\n",
            "Epoch [2/10] - Loss: 0.3405\n",
            "Epoch [3/10] - Loss: 0.2696\n",
            "Epoch [4/10] - Loss: 0.2231\n",
            "Epoch [5/10] - Loss: 0.1907\n",
            "Epoch [6/10] - Loss: 0.1517\n",
            "Epoch [7/10] - Loss: 0.1255\n",
            "Epoch [8/10] - Loss: 0.1085\n",
            "Epoch [9/10] - Loss: 0.0985\n",
            "Epoch [10/10] - Loss: 0.0760\n",
            "Accuracy: 0.9425\n"
          ]
        },
        {
          "output_type": "execute_result",
          "data": {
            "text/plain": [
              "0.942457231726283"
            ]
          },
          "metadata": {},
          "execution_count": 24
        }
      ],
      "source": [
        "model_bin = BinaryCNNClassifier()\n",
        "criterion_bin = nn.BCELoss()\n",
        "optimizer_bin = torch.optim.Adam(model_bin.parameters(), lr=0.001)\n",
        "\n",
        "model_bin = train_model(model_bin, train_loader_bin, test_loader_bin, criterion_bin, optimizer_bin, num_epochs=10, device=device)\n",
        "evaluate_model(model_bin, test_loader_bin, is_binary=True, device=device)\n"
      ]
    },
    {
      "cell_type": "markdown",
      "id": "5a95fb6c",
      "metadata": {
        "id": "5a95fb6c"
      },
      "source": [
        "Оптимизация параметров"
      ]
    },
    {
      "cell_type": "code",
      "execution_count": 24,
      "id": "bb28b270",
      "metadata": {
        "id": "bb28b270"
      },
      "outputs": [],
      "source": []
    }
  ],
  "metadata": {
    "kernelspec": {
      "display_name": "Python 3",
      "name": "python3"
    },
    "language_info": {
      "codemirror_mode": {
        "name": "ipython",
        "version": 3
      },
      "file_extension": ".py",
      "mimetype": "text/x-python",
      "name": "python",
      "nbconvert_exporter": "python",
      "pygments_lexer": "ipython3",
      "version": "3.13.3"
    },
    "colab": {
      "provenance": [],
      "gpuType": "T4"
    },
    "accelerator": "GPU"
  },
  "nbformat": 4,
  "nbformat_minor": 5
}