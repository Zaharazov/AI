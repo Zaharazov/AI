{
  "cells": [
    {
      "cell_type": "code",
      "execution_count": 1,
      "id": "8IcPIfDqnSr4",
      "metadata": {
        "colab": {
          "base_uri": "https://localhost:8080/",
          "height": 17
        },
        "id": "8IcPIfDqnSr4",
        "outputId": "c969778a-3b03-4464-da5a-55b0948ac1be"
      },
      "outputs": [
        {
          "output_type": "display_data",
          "data": {
            "text/plain": [
              "<IPython.core.display.HTML object>"
            ],
            "text/html": [
              "<script>\n",
              "    function ClickConnect(){\n",
              "        console.log(\"clicked on connect button\");\n",
              "        document.querySelector(\"colab-connect-button\").click();\n",
              "    }\n",
              "    setInterval(ClickConnect, 60000);\n",
              "</script>"
            ]
          },
          "metadata": {}
        }
      ],
      "source": [
        "from IPython.display import display, HTML\n",
        "\n",
        "display(HTML('''<script>\n",
        "    function ClickConnect(){\n",
        "        console.log(\"clicked on connect button\");\n",
        "        document.querySelector(\"colab-connect-button\").click();\n",
        "    }\n",
        "    setInterval(ClickConnect, 60000);\n",
        "</script>'''))"
      ]
    },
    {
      "cell_type": "code",
      "execution_count": 2,
      "id": "XvcNueTKV66b",
      "metadata": {
        "id": "XvcNueTKV66b"
      },
      "outputs": [],
      "source": [
        "import os\n",
        "import numpy as np\n",
        "import pandas as pd\n",
        "import matplotlib.pyplot as plt\n",
        "from sklearn.model_selection import train_test_split\n",
        "from sklearn.metrics import classification_report, confusion_matrix, accuracy_score, top_k_accuracy_score\n",
        "import seaborn as sns\n",
        "import cv2\n",
        "\n",
        "from tensorflow.keras.preprocessing.image import ImageDataGenerator\n",
        "from tensorflow.keras.applications import VGG16, VGG19, ResNet50\n",
        "from tensorflow.keras.applications.vgg16 import preprocess_input as vgg_preprocess\n",
        "from tensorflow.keras.applications.resnet50 import preprocess_input as resnet_preprocess\n",
        "from tensorflow.keras.models import Model\n",
        "from tensorflow.keras.layers import Dense, GlobalAveragePooling2D, Dropout\n",
        "from tensorflow.keras.optimizers import Adam\n",
        "from tensorflow.keras.utils import to_categorical\n",
        "import tensorflow as tf\n"
      ]
    },
    {
      "cell_type": "code",
      "execution_count": 3,
      "id": "OodvPEP8XzVg",
      "metadata": {
        "id": "OodvPEP8XzVg"
      },
      "outputs": [],
      "source": [
        "from PIL import ImageFile\n",
        "ImageFile.LOAD_TRUNCATED_IMAGES = True"
      ]
    },
    {
      "cell_type": "code",
      "execution_count": 4,
      "id": "akyKllDOhX4p",
      "metadata": {
        "id": "akyKllDOhX4p",
        "colab": {
          "base_uri": "https://localhost:8080/"
        },
        "outputId": "e4cfe305-94ac-4c46-cf33-93c7291db2e6"
      },
      "outputs": [
        {
          "output_type": "stream",
          "name": "stderr",
          "text": [
            "100%|██████████| 792M/792M [00:34<00:00, 22.8MB/s]\n",
            "100%|██████████| 19.2M/19.2M [00:01<00:00, 10.5MB/s]\n"
          ]
        }
      ],
      "source": [
        "from torchvision import datasets, transforms\n",
        "\n",
        "transform = transforms.Compose([\n",
        "    transforms.Resize((224, 224)),\n",
        "    transforms.ToTensor(),\n",
        "    transforms.Normalize([0.485, 0.456, 0.406],\n",
        "                         [0.229, 0.224, 0.225])\n",
        "])\n",
        "\n",
        "train_dataset = datasets.OxfordIIITPet(root='data', split='trainval',\n",
        "                                       target_types='category', transform=transform, download=True)\n",
        "test_dataset = datasets.OxfordIIITPet(root='data', split='test',\n",
        "                                      target_types='category', transform=transform, download=True)\n",
        "\n",
        "from torch.utils.data import DataLoader\n",
        "\n",
        "train_loader = DataLoader(train_dataset, batch_size=32, shuffle=True)\n",
        "test_loader = DataLoader(test_dataset, batch_size=32, shuffle=False)\n",
        "\n",
        "num_classes = len(set(train_dataset._labels))  # 37"
      ]
    },
    {
      "cell_type": "code",
      "execution_count": 5,
      "id": "pwnWLMpQWH5e",
      "metadata": {
        "id": "pwnWLMpQWH5e"
      },
      "outputs": [],
      "source": [
        "base_dir = \"data/oxford-iiit-pet/images\"\n",
        "image_files = [f for f in os.listdir(base_dir) if f.lower().endswith('.jpg')]\n",
        "labels = [f.split('_')[0].lower() for f in image_files]\n",
        "\n",
        "df = pd.DataFrame({\n",
        "    'filename': image_files,\n",
        "    'label': labels\n",
        "})\n",
        "\n",
        "class_names = sorted(df['label'].unique())\n",
        "\n",
        "train_df, test_df = train_test_split(df, test_size=0.2, random_state=42)\n",
        "train_df, val_df = train_test_split(train_df, test_size=0.1, random_state=42)"
      ]
    },
    {
      "cell_type": "code",
      "execution_count": 6,
      "id": "w6td7yjFW5hE",
      "metadata": {
        "colab": {
          "base_uri": "https://localhost:8080/"
        },
        "id": "w6td7yjFW5hE",
        "outputId": "a28bb9f2-7842-4093-bf9d-166619d4d104"
      },
      "outputs": [
        {
          "output_type": "stream",
          "name": "stdout",
          "text": [
            "Found 5320 validated image filenames belonging to 35 classes.\n",
            "Found 592 validated image filenames belonging to 35 classes.\n",
            "Found 1478 validated image filenames belonging to 35 classes.\n"
          ]
        }
      ],
      "source": [
        "IMG_SIZE = 224\n",
        "BATCH_SIZE = 32\n",
        "\n",
        "train_datagen = ImageDataGenerator(\n",
        "    rotation_range=20,\n",
        "    zoom_range=0.2,\n",
        "    horizontal_flip=True,\n",
        "    preprocessing_function=vgg_preprocess\n",
        ")\n",
        "\n",
        "val_datagen = ImageDataGenerator(preprocessing_function=vgg_preprocess)\n",
        "test_datagen = ImageDataGenerator(preprocessing_function=vgg_preprocess)\n",
        "\n",
        "train_generator = train_datagen.flow_from_dataframe(\n",
        "    train_df, directory=base_dir, x_col='filename', y_col='label',\n",
        "    target_size=(IMG_SIZE, IMG_SIZE), class_mode='sparse', batch_size=BATCH_SIZE\n",
        ")\n",
        "\n",
        "val_generator = val_datagen.flow_from_dataframe(\n",
        "    val_df, directory=base_dir, x_col='filename', y_col='label',\n",
        "    target_size=(IMG_SIZE, IMG_SIZE), class_mode='sparse', batch_size=BATCH_SIZE, shuffle=False\n",
        ")\n",
        "\n",
        "test_generator = test_datagen.flow_from_dataframe(\n",
        "    test_df, directory=base_dir, x_col='filename', y_col='label',\n",
        "    target_size=(IMG_SIZE, IMG_SIZE), class_mode='sparse', batch_size=BATCH_SIZE, shuffle=False\n",
        ")"
      ]
    },
    {
      "cell_type": "code",
      "source": [
        "from tensorflow.keras.applications import VGG16, VGG19, ResNet50\n",
        "from tensorflow.keras.applications.vgg16 import preprocess_input as vgg_preprocess\n",
        "from tensorflow.keras.applications.resnet50 import preprocess_input as resnet_preprocess\n",
        "\n",
        "from tensorflow.keras.layers import Input, GlobalAveragePooling2D, Dropout, Dense\n",
        "from tensorflow.keras.models import Model\n",
        "from tensorflow.keras.optimizers import Adam\n",
        "from tensorflow.keras.preprocessing.image import ImageDataGenerator\n",
        "from tensorflow.keras.callbacks import EarlyStopping, ModelCheckpoint\n",
        "\n",
        "def build_model(base_model_fn, input_shape=(224, 224, 3), num_classes=37, preprocess_fn=None, train_base=False):\n",
        "    base_input = Input(shape=input_shape)\n",
        "    x = preprocess_fn(base_input) if preprocess_fn else base_input\n",
        "\n",
        "    base_model = base_model_fn(weights='imagenet', include_top=False, input_tensor=x)\n",
        "    base_model.trainable = train_base\n",
        "\n",
        "    x = base_model.output\n",
        "    x = GlobalAveragePooling2D()(x)\n",
        "    x = Dropout(0.3)(x)\n",
        "    output = Dense(num_classes, activation='softmax')(x)\n",
        "\n",
        "    model = Model(inputs=base_input, outputs=output)\n",
        "    model.compile(optimizer=Adam(1e-4), loss='sparse_categorical_crossentropy', metrics=['accuracy'])\n",
        "\n",
        "    return model"
      ],
      "metadata": {
        "id": "Ig_YeUY7FQxX"
      },
      "id": "Ig_YeUY7FQxX",
      "execution_count": 7,
      "outputs": []
    },
    {
      "cell_type": "code",
      "source": [
        "def train_model(model, train_gen, val_gen, model_name, epochs=10):\n",
        "    checkpoint = ModelCheckpoint(f'{model_name}.keras', save_best_only=True, monitor='val_accuracy', mode='max')\n",
        "    earlystop = EarlyStopping(monitor='val_accuracy', patience=10, restore_best_weights=True)\n",
        "\n",
        "    history = model.fit(\n",
        "        train_gen,\n",
        "        validation_data=val_gen,\n",
        "        epochs=epochs,\n",
        "        callbacks=[checkpoint, earlystop],\n",
        "        verbose=1\n",
        "    )\n",
        "\n",
        "    return model, history"
      ],
      "metadata": {
        "id": "CpyP4B1pFLlP"
      },
      "id": "CpyP4B1pFLlP",
      "execution_count": 8,
      "outputs": []
    },
    {
      "cell_type": "code",
      "execution_count": 9,
      "id": "ANauVNTobmV1",
      "metadata": {
        "colab": {
          "base_uri": "https://localhost:8080/"
        },
        "id": "ANauVNTobmV1",
        "outputId": "7a03dd8d-a2af-4fc1-afd6-6ec8baaa3a89"
      },
      "outputs": [
        {
          "output_type": "stream",
          "name": "stdout",
          "text": [
            "Downloading data from https://storage.googleapis.com/tensorflow/keras-applications/vgg16/vgg16_weights_tf_dim_ordering_tf_kernels_notop.h5\n",
            "\u001b[1m58889256/58889256\u001b[0m \u001b[32m━━━━━━━━━━━━━━━━━━━━\u001b[0m\u001b[37m\u001b[0m \u001b[1m0s\u001b[0m 0us/step\n"
          ]
        },
        {
          "output_type": "stream",
          "name": "stderr",
          "text": [
            "/usr/local/lib/python3.11/dist-packages/keras/src/trainers/data_adapters/py_dataset_adapter.py:121: UserWarning: Your `PyDataset` class should call `super().__init__(**kwargs)` in its constructor. `**kwargs` can include `workers`, `use_multiprocessing`, `max_queue_size`. Do not pass these arguments to `fit()`, as they will be ignored.\n",
            "  self._warn_if_super_not_called()\n"
          ]
        },
        {
          "output_type": "stream",
          "name": "stdout",
          "text": [
            "Epoch 1/10\n",
            "\u001b[1m167/167\u001b[0m \u001b[32m━━━━━━━━━━━━━━━━━━━━\u001b[0m\u001b[37m\u001b[0m \u001b[1m109s\u001b[0m 551ms/step - accuracy: 0.0338 - loss: 23.0918 - val_accuracy: 0.0642 - val_loss: 14.9831\n",
            "Epoch 2/10\n",
            "\u001b[1m167/167\u001b[0m \u001b[32m━━━━━━━━━━━━━━━━━━━━\u001b[0m\u001b[37m\u001b[0m \u001b[1m80s\u001b[0m 477ms/step - accuracy: 0.0530 - loss: 17.5533 - val_accuracy: 0.1115 - val_loss: 11.6537\n",
            "Epoch 3/10\n",
            "\u001b[1m167/167\u001b[0m \u001b[32m━━━━━━━━━━━━━━━━━━━━\u001b[0m\u001b[37m\u001b[0m \u001b[1m81s\u001b[0m 482ms/step - accuracy: 0.0876 - loss: 14.5253 - val_accuracy: 0.1622 - val_loss: 9.1702\n",
            "Epoch 4/10\n",
            "\u001b[1m167/167\u001b[0m \u001b[32m━━━━━━━━━━━━━━━━━━━━\u001b[0m\u001b[37m\u001b[0m \u001b[1m81s\u001b[0m 483ms/step - accuracy: 0.1315 - loss: 12.4413 - val_accuracy: 0.2331 - val_loss: 7.4562\n",
            "Epoch 5/10\n",
            "\u001b[1m167/167\u001b[0m \u001b[32m━━━━━━━━━━━━━━━━━━━━\u001b[0m\u001b[37m\u001b[0m \u001b[1m81s\u001b[0m 483ms/step - accuracy: 0.1628 - loss: 10.6898 - val_accuracy: 0.2905 - val_loss: 6.2354\n",
            "Epoch 6/10\n",
            "\u001b[1m167/167\u001b[0m \u001b[32m━━━━━━━━━━━━━━━━━━━━\u001b[0m\u001b[37m\u001b[0m \u001b[1m80s\u001b[0m 480ms/step - accuracy: 0.2023 - loss: 9.5240 - val_accuracy: 0.3429 - val_loss: 5.2805\n",
            "Epoch 7/10\n",
            "\u001b[1m167/167\u001b[0m \u001b[32m━━━━━━━━━━━━━━━━━━━━\u001b[0m\u001b[37m\u001b[0m \u001b[1m81s\u001b[0m 484ms/step - accuracy: 0.2317 - loss: 8.4966 - val_accuracy: 0.4054 - val_loss: 4.6112\n",
            "Epoch 8/10\n",
            "\u001b[1m167/167\u001b[0m \u001b[32m━━━━━━━━━━━━━━━━━━━━\u001b[0m\u001b[37m\u001b[0m \u001b[1m80s\u001b[0m 480ms/step - accuracy: 0.2497 - loss: 7.7234 - val_accuracy: 0.4493 - val_loss: 4.0978\n",
            "Epoch 9/10\n",
            "\u001b[1m167/167\u001b[0m \u001b[32m━━━━━━━━━━━━━━━━━━━━\u001b[0m\u001b[37m\u001b[0m \u001b[1m80s\u001b[0m 481ms/step - accuracy: 0.2835 - loss: 7.2034 - val_accuracy: 0.4899 - val_loss: 3.7155\n",
            "Epoch 10/10\n",
            "\u001b[1m167/167\u001b[0m \u001b[32m━━━━━━━━━━━━━━━━━━━━\u001b[0m\u001b[37m\u001b[0m \u001b[1m80s\u001b[0m 481ms/step - accuracy: 0.3333 - loss: 6.3801 - val_accuracy: 0.5270 - val_loss: 3.4019\n",
            "\u001b[1m47/47\u001b[0m \u001b[32m━━━━━━━━━━━━━━━━━━━━\u001b[0m\u001b[37m\u001b[0m \u001b[1m11s\u001b[0m 241ms/step - accuracy: 0.5273 - loss: 3.1343\n",
            "Test accuracy: 0.5419485569000244\n"
          ]
        }
      ],
      "source": [
        "num_classes = len(class_names)\n",
        "\n",
        "vgg16_model = build_model(VGG16, num_classes=num_classes, preprocess_fn=vgg_preprocess)\n",
        "vgg16_model, vgg16_history = train_model(vgg16_model, train_generator, val_generator, 'vgg16_model')\n",
        "\n",
        "test_loss, test_acc = vgg16_model.evaluate(test_generator)\n",
        "print(f\"Test accuracy: {test_acc}\")"
      ]
    },
    {
      "cell_type": "code",
      "execution_count": null,
      "id": "cFPyBdz9bpjA",
      "metadata": {
        "colab": {
          "base_uri": "https://localhost:8080/"
        },
        "id": "cFPyBdz9bpjA",
        "outputId": "2b4a839e-fe79-44ef-c425-29d83db8ee6e"
      },
      "outputs": [
        {
          "output_type": "stream",
          "name": "stdout",
          "text": [
            "Downloading data from https://storage.googleapis.com/tensorflow/keras-applications/vgg19/vgg19_weights_tf_dim_ordering_tf_kernels_notop.h5\n",
            "\u001b[1m80134624/80134624\u001b[0m \u001b[32m━━━━━━━━━━━━━━━━━━━━\u001b[0m\u001b[37m\u001b[0m \u001b[1m0s\u001b[0m 0us/step\n",
            "Epoch 1/10\n",
            "\u001b[1m 82/167\u001b[0m \u001b[32m━━━━━━━━━\u001b[0m\u001b[37m━━━━━━━━━━━\u001b[0m \u001b[1m42s\u001b[0m 500ms/step - accuracy: 0.0358 - loss: 23.4882"
          ]
        }
      ],
      "source": [
        "vgg19_model = build_model(VGG19, num_classes=num_classes, preprocess_fn=vgg_preprocess)\n",
        "vgg19_model, vgg19_history = train_model(vgg19_model, train_generator, val_generator, 'vgg19_model')\n",
        "\n",
        "test_loss, test_acc = vgg19_model.evaluate(test_generator)\n",
        "print(f\"Test accuracy: {test_acc}\")"
      ]
    },
    {
      "cell_type": "code",
      "execution_count": null,
      "id": "qx76O8SYXVv3",
      "metadata": {
        "id": "qx76O8SYXVv3"
      },
      "outputs": [],
      "source": [
        "resnet_train_gen = ImageDataGenerator(\n",
        "    rotation_range=20,\n",
        "    zoom_range=0.2,\n",
        "    horizontal_flip=True,\n",
        "    preprocessing_function=resnet_preprocess\n",
        ")\n",
        "\n",
        "resnet_val_gen = ImageDataGenerator(preprocessing_function=resnet_preprocess)\n",
        "\n",
        "resnet_train_generator = resnet_train_gen.flow_from_dataframe(\n",
        "    train_df, directory=base_dir, x_col='filename', y_col='label',\n",
        "    target_size=(IMG_SIZE, IMG_SIZE), class_mode='sparse', batch_size=BATCH_SIZE\n",
        ")\n",
        "\n",
        "resnet_val_generator = resnet_val_gen.flow_from_dataframe(\n",
        "    val_df, directory=base_dir, x_col='filename', y_col='label',\n",
        "    target_size=(IMG_SIZE, IMG_SIZE), class_mode='sparse', batch_size=BATCH_SIZE, shuffle=False\n",
        ")\n",
        "\n",
        "resnet_model = build_model(ResNet50, num_classes=num_classes, preprocess_fn=resnet_preprocess)\n",
        "resnet_model, resnet_history = train_model(resnet_model, resnet_train_generator, resnet_val_generator, 'resnet_model')\n",
        "\n",
        "test_loss, test_acc = resnet_model.evaluate(test_generator)\n",
        "print(f\"Test accuracy: {test_acc}\")"
      ]
    },
    {
      "cell_type": "code",
      "source": [
        "from sklearn.metrics import confusion_matrix\n",
        "import seaborn as sns\n",
        "import matplotlib.pyplot as plt\n",
        "\n",
        "y_true = test_generator.classes\n",
        "y_pred = vgg16_model.predict(test_generator)\n",
        "y_pred = np.argmax(y_pred, axis=1)\n",
        "\n",
        "cm = confusion_matrix(y_true, y_pred)\n",
        "\n",
        "plt.figure(figsize=(10, 8))\n",
        "sns.heatmap(cm, annot=True, fmt=\"d\", cmap=\"Blues\", xticklabels=train_generator.class_indices.keys(), yticklabels=train_generator.class_indices.keys())\n",
        "plt.xlabel('Predicted')\n",
        "plt.ylabel('True')\n",
        "plt.title('Confusion Matrix')\n",
        "plt.show()"
      ],
      "metadata": {
        "id": "RlSGZTYkoaxs"
      },
      "id": "RlSGZTYkoaxs",
      "execution_count": null,
      "outputs": []
    },
    {
      "cell_type": "code",
      "execution_count": null,
      "id": "zcNIySVz33ip",
      "metadata": {
        "id": "zcNIySVz33ip"
      },
      "outputs": [],
      "source": [
        "import os\n",
        "import pandas as pd\n",
        "from sklearn.model_selection import train_test_split\n",
        "from tensorflow.keras.preprocessing.image import ImageDataGenerator\n",
        "from tensorflow.keras.applications import ResNet50\n",
        "from tensorflow.keras.models import Model\n",
        "from tensorflow.keras.layers import Dense, GlobalAveragePooling2D\n",
        "from tensorflow.keras.optimizers import Adam\n",
        "from sklearn.metrics import confusion_matrix, ConfusionMatrixDisplay\n",
        "import numpy as np\n",
        "import matplotlib.pyplot as plt\n",
        "\n",
        "cat_classes = [c.replace(' ', '_').lower() for c in [\n",
        "    'Abyssinian', 'Bengal', 'Birman', 'Bombay', 'British Shorthair',\n",
        "    'Egyptian Mau', 'Maine Coon', 'Persian', 'Ragdoll',\n",
        "    'Russian Blue', 'Siamese', 'Sphynx'\n",
        "]]\n",
        "\n",
        "dog_classes = [d.replace(' ', '_').lower() for d in [\n",
        "    'American Bulldog', 'American Pit Bull Terrier', 'Basset Hound', 'Beagle',\n",
        "    'Boxer', 'Chihuahua', 'English Cocker Spaniel', 'English Setter',\n",
        "    'German Shorthaired Pointer', 'Great Pyrenees', 'Havanese', 'Japanese Chin',\n",
        "    'Keeshond', 'Leonberger', 'Miniature Pinscher', 'Newfoundland',\n",
        "    'Pomeranian', 'Pug', 'Saint Bernard', 'Samoyed', 'Scottish Terrier',\n",
        "    'Shiba Inu', 'Staffordshire Bull Terrier', 'Wheaten Terrier', 'Yorkshire Terrier'\n",
        "]]\n",
        "\n",
        "image_dir = 'data/oxford-iiit-pet/images'\n",
        "image_files = [f for f in os.listdir(image_dir) if f.endswith('.jpg')]\n",
        "\n",
        "data = []\n",
        "for file in image_files:\n",
        "    breed = file.rsplit('_', 1)[0].lower()\n",
        "    if breed in cat_classes:\n",
        "        label = 'cat'\n",
        "    elif breed in dog_classes:\n",
        "        label = 'dog'\n",
        "    else:\n",
        "        continue\n",
        "    data.append({'filename': file, 'label': label})\n",
        "\n",
        "df = pd.DataFrame(data)\n",
        "\n",
        "train_df, val_df = train_test_split(df, test_size=0.2, stratify=df['label'], random_state=42)\n",
        "\n",
        "datagen = ImageDataGenerator(rescale=1./255)\n",
        "\n",
        "train_gen = datagen.flow_from_dataframe(\n",
        "    train_df,\n",
        "    directory=image_dir,\n",
        "    x_col='filename',\n",
        "    y_col='label',\n",
        "    target_size=(224, 224),\n",
        "    class_mode='binary',\n",
        "    batch_size=32,\n",
        "    shuffle=True\n",
        ")\n",
        "\n",
        "val_gen = datagen.flow_from_dataframe(\n",
        "    val_df,\n",
        "    directory=image_dir,\n",
        "    x_col='filename',\n",
        "    y_col='label',\n",
        "    target_size=(224, 224),\n",
        "    class_mode='binary',\n",
        "    batch_size=32,\n",
        "    shuffle=False\n",
        ")\n",
        "\n",
        "base_model = ResNet50(weights='imagenet', include_top=False, input_shape=(224, 224, 3))\n",
        "base_model.trainable = False\n",
        "\n",
        "x = base_model.output\n",
        "x = GlobalAveragePooling2D()(x)\n",
        "x = Dense(128, activation='relu')(x)\n",
        "output = Dense(1, activation='sigmoid')(x)\n",
        "\n",
        "binary_model = Model(inputs=base_model.input, outputs=output)\n",
        "binary_model.compile(optimizer=Adam(1e-4), loss='binary_crossentropy', metrics=['accuracy'])\n",
        "\n",
        "binary_model.fit(train_gen, validation_data=val_gen, epochs=5)\n",
        "\n",
        "loss, accuracy = binary_model.evaluate(val_gen)\n",
        "print(f\"Validation Accuracy: {accuracy:.4f}\")\n",
        "\n",
        "val_gen.reset()\n",
        "y_pred_probs = binary_model.predict(val_gen)\n",
        "y_pred = (y_pred_probs > 0.5).astype(int).flatten()\n",
        "y_true = val_gen.classes\n",
        "\n",
        "cm = confusion_matrix(y_true, y_pred)\n",
        "disp = ConfusionMatrixDisplay(confusion_matrix=cm, display_labels=['Cat', 'Dog'])\n",
        "disp.plot()\n",
        "plt.show()\n"
      ]
    },
    {
      "cell_type": "code",
      "execution_count": null,
      "id": "8o7T11GmcYLo",
      "metadata": {
        "id": "8o7T11GmcYLo"
      },
      "outputs": [],
      "source": [
        "from sklearn.metrics import top_k_accuracy_score\n",
        "\n",
        "\n",
        "y_true = test_generator.classes\n",
        "y_pred = vgg16_model.predict(test_generator)\n",
        "\n",
        "top_3_acc = top_k_accuracy_score(y_true, y_pred, k=3, labels=np.arange(num_classes))\n",
        "top_5_acc = top_k_accuracy_score(y_true, y_pred, k=5, labels=np.arange(num_classes))\n",
        "\n",
        "print(f\"Top-3 Accuracy: {top_3_acc}\")\n",
        "print(f\"Top-5 Accuracy: {top_5_acc}\")"
      ]
    },
    {
      "cell_type": "code",
      "source": [
        "y_pred = vgg19_model.predict(test_generator)\n",
        "\n",
        "top_3_acc = top_k_accuracy_score(y_true, y_pred, k=3, labels=np.arange(num_classes))\n",
        "top_5_acc = top_k_accuracy_score(y_true, y_pred, k=5, labels=np.arange(num_classes))\n",
        "\n",
        "print(f\"Top-3 Accuracy: {top_3_acc}\")\n",
        "print(f\"Top-5 Accuracy: {top_5_acc}\")"
      ],
      "metadata": {
        "id": "yWxcyltpoWNF"
      },
      "id": "yWxcyltpoWNF",
      "execution_count": null,
      "outputs": []
    },
    {
      "cell_type": "code",
      "execution_count": null,
      "id": "aGXh-e4UhaCY",
      "metadata": {
        "id": "aGXh-e4UhaCY"
      },
      "outputs": [],
      "source": [
        "y_pred = resnet_model.predict(test_generator)\n",
        "\n",
        "top_3_acc = top_k_accuracy_score(y_true, y_pred, k=3, labels=np.arange(num_classes))\n",
        "top_5_acc = top_k_accuracy_score(y_true, y_pred, k=5, labels=np.arange(num_classes))\n",
        "\n",
        "print(f\"Top-3 Accuracy: {top_3_acc}\")\n",
        "print(f\"Top-5 Accuracy: {top_5_acc}\")"
      ]
    },
    {
      "cell_type": "markdown",
      "id": "LCIBM0pqgVU7",
      "metadata": {
        "id": "LCIBM0pqgVU7"
      },
      "source": [
        "Grand Cam"
      ]
    }
  ],
  "metadata": {
    "accelerator": "GPU",
    "colab": {
      "gpuType": "T4",
      "provenance": []
    },
    "kernelspec": {
      "display_name": "Python 3",
      "name": "python3"
    },
    "language_info": {
      "codemirror_mode": {
        "name": "ipython",
        "version": 3
      },
      "file_extension": ".py",
      "mimetype": "text/x-python",
      "name": "python",
      "nbconvert_exporter": "python",
      "pygments_lexer": "ipython3",
      "version": "3.13.3"
    }
  },
  "nbformat": 4,
  "nbformat_minor": 5
}